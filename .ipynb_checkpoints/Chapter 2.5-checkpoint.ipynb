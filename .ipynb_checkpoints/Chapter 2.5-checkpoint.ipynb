{
 "cells": [
  {
   "cell_type": "code",
   "execution_count": 66,
   "metadata": {},
   "outputs": [],
   "source": [
    "from statistics import mean\n",
    "import math\n",
    "import numpy as np\n",
    "import matplotlib.pyplot as plt"
   ]
  },
  {
   "cell_type": "code",
   "execution_count": 35,
   "metadata": {},
   "outputs": [],
   "source": [
    "'''\n",
    "    some functions to help with chapter 2. I'll only use these in select problems so I can both practice\n",
    "    the math while practicing my use of implementing python functions\n",
    "'''\n",
    "def get_deviations (set):\n",
    "    return [x - mean(set) for x in set]\n",
    "\n",
    "def verify_deviations (deviations):\n",
    "    return sum(deviations) == 0\n",
    "\n",
    "def calculate_variance (deviations, lenset):\n",
    "    if (lenset == 0):\n",
    "        return 0\n",
    "    else:\n",
    "        return sum([x * x for x in deviations]) / (lenset - 1)\n",
    "\n",
    "def calculate_standard_deviation (variance):\n",
    "    return math.sqrt(variance)"
   ]
  },
  {
   "cell_type": "code",
   "execution_count": 28,
   "metadata": {},
   "outputs": [
    {
     "name": "stdout",
     "output_type": "stream",
     "text": [
      "deviations [3, -2, -1]\n",
      "sum of deviations is equal to zero? True\n",
      "variance : 7.0\n",
      "standard deviation : 2.6457513110645907\n"
     ]
    }
   ],
   "source": [
    "# 2.57 (using functions)\n",
    "set = [8, 3, 4]\n",
    "deviations = get_deviations(set)\n",
    "verify_sum_to_zero = verify_deviations(deviations)\n",
    "\n",
    "variance = calculate_variance(deviations, len(set))\n",
    "standard_deviation = calculate_standard_deviation(variance)\n",
    "\n",
    "print('deviations ' + str(deviations))\n",
    "print('sum of deviations is equal to zero? ' + str(verify_sum_to_zero))\n",
    "print('variance : ' + str(variance))\n",
    "print('standard deviation : ' + str(standard_deviation))"
   ]
  },
  {
   "cell_type": "code",
   "execution_count": 39,
   "metadata": {},
   "outputs": [
    {
     "name": "stdout",
     "output_type": "stream",
     "text": [
      "deviations [0, -2, 6, -4]\n",
      "sum of deviations is equal to zero? True\n",
      "variance : 18.666666666666668\n",
      "standard deviation : 4.320493798938574\n"
     ]
    }
   ],
   "source": [
    "# 2.59 (not using functions, practicing the math)\n",
    "set = [8, 6, 14, 4]\n",
    "deviations = [x - mean(set) for x in set]\n",
    "verify_sum_to_zero = sum(deviations) == 0\n",
    "\n",
    "variance_numerator = [x * x for x in deviations]\n",
    "variance_denom = len(set) -1\n",
    "\n",
    "variance = sum(variance_numerator) / variance_denom\n",
    "standard_deviation = math.sqrt(variance)\n",
    "\n",
    "print('deviations ' + str(deviations))\n",
    "print('sum of deviations is equal to zero? ' + str(verify_sum_to_zero))\n",
    "print('variance : ' + str(variance))\n",
    "print('standard deviation : ' + str(standard_deviation))"
   ]
  },
  {
   "cell_type": "code",
   "execution_count": 5,
   "metadata": {},
   "outputs": [
    {
     "name": "stdout",
     "output_type": "stream",
     "text": [
      "variance : 7.0\n"
     ]
    }
   ],
   "source": [
    "# 2.61 (not using functions, practicing the math)\n",
    "set = [8, 3, 4]\n",
    "\n",
    "# need to calculate variance by using alternative formula:\n",
    "variance = (sum([x * x for x in set]) - (sum(set) * sum(set)) / len(set)) / (len(set) - 1)\n",
    "print('variance : ' + str(variance))"
   ]
  },
  {
   "cell_type": "code",
   "execution_count": 29,
   "metadata": {},
   "outputs": [],
   "source": [
    "# 2.63 (not using functions, practicing the math)\n",
    "\n",
    "# a)\n",
    "a = [1, 4, 3, 2, 2]\n",
    "deviations = [x - mean(a) for x in a]\n",
    "variance_a = sum([x * x for x in deviations]) / (len(a) - 1)\n",
    "\n",
    "# b)\n",
    "b = [-2, 1, -1, -3, 0, -2]\n",
    "deviations = [x - mean(b) for x in b]\n",
    "variance_b = sum([x * x for x in deviations]) / (len(b) - 1)\n",
    "\n",
    "#c)\n",
    "c = [9, 8, 8, 9, 8, 8, 9]\n",
    "deviations = [x - mean(c) for x in c]\n",
    "variance_c = sum([x * x for x in deviations]) / (len(c) - 1)"
   ]
  },
  {
   "cell_type": "code",
   "execution_count": 45,
   "metadata": {},
   "outputs": [],
   "source": [
    "# 2.65 (using functions)\n",
    "\n",
    "set = [22, 24, 24, 30, 22, 20, 28, 30, 24, 34, 36, 15, 37]\n",
    "deviations = get_deviations(set)\n",
    "variance = calculate_variance(deviations, len(set))\n",
    "standard_deviation = calculate_standard_deviation(variance)"
   ]
  },
  {
   "cell_type": "code",
   "execution_count": 56,
   "metadata": {},
   "outputs": [
    {
     "name": "stdout",
     "output_type": "stream",
     "text": [
      "155225.7142857143\n",
      "393.98694684686484\n",
      "133.59977956157377\n"
     ]
    }
   ],
   "source": [
    "# 2.67 (not using functions, practicing the math)\n",
    "\n",
    "# a) calculate the sample variance s^2\n",
    "set = [180, 1600, 90, 140, 50, 260, 400, 90, 380, 110, 10, 60, 20, 340, 80]\n",
    "deviations = [x - mean(set) for x in set]\n",
    "variance = sum([x * x for x in deviations]) / (len(set) - 1)\n",
    "\n",
    "#b) calculate the standard deviation s\n",
    "standard_deviation = math.sqrt(variance)\n",
    "\n",
    "print(variance)\n",
    "print(standard_deviation)\n",
    "\n",
    "'''\n",
    " c) One day, the water quality was bad - the reading was 1600 CFU - and the beach was closed.\n",
    "    Drop this value and calculate the sample standard deviation for the days where the water\n",
    "    quality was suitable for swimming.\n",
    "'''\n",
    "del set[1]\n",
    "standard_deviation = math.sqrt(sum([x * x for x in [x - mean(set) for x in set]]) / (len(set) - 1))\n",
    "print(standard_deviation)"
   ]
  },
  {
   "cell_type": "code",
   "execution_count": 67,
   "metadata": {},
   "outputs": [
    {
     "name": "stdout",
     "output_type": "stream",
     "text": [
      "[4.5, 6.3, 7.3, 8.3, 10.0]\n"
     ]
    },
    {
     "data": {
      "image/png": "[encoded data removed]",
      "text/plain": [
       "<Figure size 432x288 with 1 Axes>"
      ]
     },
     "metadata": {
      "needs_background": "light"
     },
     "output_type": "display_data"
    }
   ],
   "source": [
    "# 2.88 (skipped a ton that are just calculating deviation and variance)\n",
    "set = [\n",
    "    4.5, 4.7, 5.0, 5.0, 5.3, 5.5, 5.5, 5.7, 5.7, 5.7, 6.0, 6.0, 6.0, 6.0, 6.3, 6.3, 6.3, 6.5,\n",
    "    6.5, 6.5, 6.7, 6.7, 6.7, 6.7, 7.0, 7.0, 7.0, 7.0, 7.3, 7.3, 7.3, 7.3, 7.5, 7.5, 7.5, 7.5,\n",
    "    7.7, 7.7, 7.7, 7.7, 8.0, 8.0, 8.0, 8.0, 8.3, 8.3, 8.3, 8.5, 8.5, 8.5, 8.5, 8.7, 8.7, 9.0,\n",
    "    9.0, 9.0, 9.3, 9.3, 10.0\n",
    "]\n",
    "\n",
    "five_num_sum = [\n",
    "    min(set),\n",
    "    set[math.ceil(len(set) * .25)],\n",
    "    set[math.ceil(len(set) * .5)],\n",
    "    set[math.ceil(len(set) * .75)],\n",
    "    max(set)\n",
    "]\n",
    "\n",
    "print(str(five_num_sum))\n",
    "fig = plt.figure()\n",
    "ax = fig.add_axes([0, 0, 1, 1])\n",
    "bp = ax.boxplot(five_num_sum)\n",
    "plt.show()\n",
    "\n"
   ]
  },
  {
   "cell_type": "code",
   "execution_count": null,
   "metadata": {},
   "outputs": [],
   "source": []
  }
 ],
 "metadata": {
  "kernelspec": {
   "display_name": "Python 3",
   "language": "python",
   "name": "python3"
  },
  "language_info": {
   "codemirror_mode": {
    "name": "ipython",
    "version": 3
   },
   "file_extension": ".py",
   "mimetype": "text/x-python",
   "name": "python",
   "nbconvert_exporter": "python",
   "pygments_lexer": "ipython3",
   "version": "3.8.3"
  }
 },
 "nbformat": 4,
 "nbformat_minor": 4
}
