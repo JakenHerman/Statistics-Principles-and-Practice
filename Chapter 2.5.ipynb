{
 "cells": [
  {
   "cell_type": "code",
   "execution_count": 32,
   "metadata": {},
   "outputs": [],
   "source": [
    "from statistics import mean\n",
    "import math"
   ]
  },
  {
   "cell_type": "code",
   "execution_count": 33,
   "metadata": {},
   "outputs": [
    {
     "name": "stdout",
     "output_type": "stream",
     "text": [
      "deviations [3, -2, -1]\n",
      "sum of deviations is equal to zero? True\n",
      "variance : 7.0\n",
      "standard deviation : 2.6457513110645907\n"
     ]
    }
   ],
   "source": [
    "# 2.57\n",
    "set = [8, 3, 4]\n",
    "deviations = [x - mean(set) for x in set]\n",
    "verify_sum_to_zero = sum(deviations) == 0\n",
    "\n",
    "variance_numerator = sum([x * x for x in deviations])\n",
    "variance_denom = len(set) - 1\n",
    "\n",
    "variance = variance_numerator / variance_denom\n",
    "standard_deviation = math.sqrt(variance)\n",
    "\n",
    "print('deviations ' + str(deviations))\n",
    "print('sum of deviations is equal to zero? ' + str(verify_sum_to_zero))\n",
    "print('variance : ' + str(variance))\n",
    "print('standard deviation : ' + str(standard_deviation))"
   ]
  },
  {
   "cell_type": "code",
   "execution_count": 39,
   "metadata": {},
   "outputs": [
    {
     "name": "stdout",
     "output_type": "stream",
     "text": [
      "deviations [0, -2, 6, -4]\n",
      "sum of deviations is equal to zero? True\n",
      "variance : 18.666666666666668\n",
      "standard deviation : 4.320493798938574\n"
     ]
    }
   ],
   "source": [
    "# 2.59\n",
    "set = [8, 6, 14, 4]\n",
    "deviations = [x - mean(set) for x in set]\n",
    "verify_sum_to_zero = sum(deviations) == 0\n",
    "\n",
    "variance_numerator = [x * x for x in deviations]\n",
    "variance_denom = len(set) -1\n",
    "\n",
    "variance = sum(variance_numerator) / variance_denom\n",
    "standard_deviation = math.sqrt(variance)\n",
    "\n",
    "print('deviations ' + str(deviations))\n",
    "print('sum of deviations is equal to zero? ' + str(verify_sum_to_zero))\n",
    "print('variance : ' + str(variance))\n",
    "print('standard deviation : ' + str(standard_deviation))"
   ]
  },
  {
   "cell_type": "code",
   "execution_count": null,
   "metadata": {},
   "outputs": [],
   "source": []
  }
 ],
 "metadata": {
  "kernelspec": {
   "display_name": "Python 3",
   "language": "python",
   "name": "python3"
  },
  "language_info": {
   "codemirror_mode": {
    "name": "ipython",
    "version": 3
   },
   "file_extension": ".py",
   "mimetype": "text/x-python",
   "name": "python",
   "nbconvert_exporter": "python",
   "pygments_lexer": "ipython3",
   "version": "3.8.5"
  }
 },
 "nbformat": 4,
 "nbformat_minor": 4
}
