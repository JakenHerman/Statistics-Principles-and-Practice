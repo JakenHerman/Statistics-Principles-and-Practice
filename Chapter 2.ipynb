{
 "cells": [
  {
   "cell_type": "code",
   "execution_count": 8,
   "metadata": {},
   "outputs": [
    {
     "data": {
      "text/html": [
       "6"
      ],
      "text/latex": [
       "6"
      ],
      "text/markdown": [
       "6"
      ],
      "text/plain": [
       "[1] 6"
      ]
     },
     "metadata": {},
     "output_type": "display_data"
    },
    {
     "data": {
      "text/html": [
       "4"
      ],
      "text/latex": [
       "4"
      ],
      "text/markdown": [
       "4"
      ],
      "text/plain": [
       "[1] 4"
      ]
     },
     "metadata": {},
     "output_type": "display_data"
    },
    {
     "data": {
      "text/html": [
       "5"
      ],
      "text/latex": [
       "5"
      ],
      "text/markdown": [
       "5"
      ],
      "text/plain": [
       "[1] 5"
      ]
     },
     "metadata": {},
     "output_type": "display_data"
    },
    {
     "data": {
      "text/html": [
       "4"
      ],
      "text/latex": [
       "4"
      ],
      "text/markdown": [
       "4"
      ],
      "text/plain": [
       "[1] 4"
      ]
     },
     "metadata": {},
     "output_type": "display_data"
    }
   ],
   "source": [
    "# 2.29\n",
    "set_a <- c(3, 7, 4, 11, 5)\n",
    "set_b <- c(4, 2, 8, 4, 2)\n",
    "mean(set_a)\n",
    "mean(set_b)\n",
    "median(set_a)\n",
    "median(set_b)"
   ]
  },
  {
   "cell_type": "code",
   "execution_count": 10,
   "metadata": {},
   "outputs": [
    {
     "data": {
      "text/html": [
       "254"
      ],
      "text/latex": [
       "254"
      ],
      "text/markdown": [
       "254"
      ],
      "text/plain": [
       "[1] 254"
      ]
     },
     "metadata": {},
     "output_type": "display_data"
    },
    {
     "data": {
      "text/html": [
       "110"
      ],
      "text/latex": [
       "110"
      ],
      "text/markdown": [
       "110"
      ],
      "text/plain": [
       "[1] 110"
      ]
     },
     "metadata": {},
     "output_type": "display_data"
    }
   ],
   "source": [
    "# 2.31\n",
    "# a)\n",
    "set <- c(180, 1600, 90, 140, 50, 260, 400, 90, 380, 110, 10, 60, 20, 340, 80)\n",
    "mean(set)\n",
    "median(set)\n",
    "\n",
    "#b) Median because the 1600 reading bears too much influence on mean"
   ]
  },
  {
   "cell_type": "code",
   "execution_count": 11,
   "metadata": {},
   "outputs": [
    {
     "data": {
      "text/html": [
       "79.6666666666667"
      ],
      "text/latex": [
       "79.6666666666667"
      ],
      "text/markdown": [
       "79.6666666666667"
      ],
      "text/plain": [
       "[1] 79.66667"
      ]
     },
     "metadata": {},
     "output_type": "display_data"
    }
   ],
   "source": [
    "# 2.33\n",
    "set <- c(56, 62, 68, 77, 87, 99, 105, 102, 95, 82, 66, 57)\n",
    "mean(set)"
   ]
  },
  {
   "cell_type": "code",
   "execution_count": 12,
   "metadata": {},
   "outputs": [
    {
     "data": {
      "text/html": [
       "8.48"
      ],
      "text/latex": [
       "8.48"
      ],
      "text/markdown": [
       "8.48"
      ],
      "text/plain": [
       "[1] 8.48"
      ]
     },
     "metadata": {},
     "output_type": "display_data"
    },
    {
     "data": {
      "text/html": [
       "8"
      ],
      "text/latex": [
       "8"
      ],
      "text/markdown": [
       "8"
      ],
      "text/plain": [
       "[1] 8"
      ]
     },
     "metadata": {},
     "output_type": "display_data"
    }
   ],
   "source": [
    "# 2.35\n",
    "# a)\n",
    "set <- c(15, 9, 18, 10, 5, 12, 8, 5, 8, 10, 7, 2, 1, 5, 3, 5, 15, 10, 15, 9, 8, 18, 1, 2, 11)\n",
    "mean(set)\n",
    "median(set)\n",
    "\n",
    "# b) In this case, both mean & median give a relatively good indication of the amount of radiation leakage."
   ]
  },
  {
   "cell_type": "code",
   "execution_count": 13,
   "metadata": {},
   "outputs": [],
   "source": [
    "# 2.37\n",
    "# 1st measure of center tendency is the median value (117), which means there is exactly half of the babies\n",
    "# that weigh less than 117oz, and exactly half that weigh more than 117oz.\n",
    "\n",
    "# 2nd measure of center tendency is the mean value (118.05) which indicates that the average weight of the \n",
    "# babies in the study is 118.05oz"
   ]
  },
  {
   "cell_type": "code",
   "execution_count": 14,
   "metadata": {},
   "outputs": [
    {
     "data": {
      "text/html": [
       "2.6"
      ],
      "text/latex": [
       "2.6"
      ],
      "text/markdown": [
       "2.6"
      ],
      "text/plain": [
       "[1] 2.6"
      ]
     },
     "metadata": {},
     "output_type": "display_data"
    },
    {
     "data": {
      "text/html": [
       "2"
      ],
      "text/latex": [
       "2"
      ],
      "text/markdown": [
       "2"
      ],
      "text/plain": [
       "[1] 2"
      ]
     },
     "metadata": {},
     "output_type": "display_data"
    }
   ],
   "source": [
    "# 2.39\n",
    "set <- c(1, 4, 3, 2, 3, 4, 5, 1, 2, 1, 2, 5, 1, 4, 2, 1, 3, 2, 4, 1, 2, 3, 2, 3, 2, 1, 4, 3, 2, 5)\n",
    "mean(set)\n",
    "median(set)"
   ]
  },
  {
   "cell_type": "code",
   "execution_count": 15,
   "metadata": {},
   "outputs": [
    {
     "data": {
      "text/html": [
       "6.775"
      ],
      "text/latex": [
       "6.775"
      ],
      "text/markdown": [
       "6.775"
      ],
      "text/plain": [
       "[1] 6.775"
      ]
     },
     "metadata": {},
     "output_type": "display_data"
    },
    {
     "data": {
      "text/html": [
       "6.5"
      ],
      "text/latex": [
       "6.5"
      ],
      "text/markdown": [
       "6.5"
      ],
      "text/plain": [
       "[1] 6.5"
      ]
     },
     "metadata": {},
     "output_type": "display_data"
    }
   ],
   "source": [
    "# 2.41\n",
    "set <- c(8, 7, 13, 3, 6, 4, 8, 6, 3, 4, 0, 1, 11, 7, 1, 8, 6, 12, 13, 10, 9, 11, 3, 2, 9, 7, 1, 16, 3, 2, 10, 15, 2, 5, 8, 17, 8, 2, 5, 5)\n",
    "mean(set)\n",
    "median(set)\n",
    "\n",
    "# Both mean and median are a decent indication of mineral loss"
   ]
  },
  {
   "cell_type": "code",
   "execution_count": 17,
   "metadata": {},
   "outputs": [
    {
     "data": {
      "text/html": [
       "181.5"
      ],
      "text/latex": [
       "181.5"
      ],
      "text/markdown": [
       "181.5"
      ],
      "text/plain": [
       "[1] 181.5"
      ]
     },
     "metadata": {},
     "output_type": "display_data"
    }
   ],
   "source": [
    "# 2.43\n",
    "set <- c(167, 211, 187, 176, 170, 158, 198, 218, 145, 232)\n",
    "median(set)"
   ]
  },
  {
   "cell_type": "code",
   "execution_count": 91,
   "metadata": {},
   "outputs": [
    {
     "data": {
      "text/html": [
       "<dl class=dl-horizontal>\n",
       "\t<dt>0%</dt>\n",
       "\t\t<dd>15</dd>\n",
       "\t<dt>25%</dt>\n",
       "\t\t<dd>22</dd>\n",
       "\t<dt>50%</dt>\n",
       "\t\t<dd>24</dd>\n",
       "\t<dt>75%</dt>\n",
       "\t\t<dd>30</dd>\n",
       "\t<dt>100%</dt>\n",
       "\t\t<dd>37</dd>\n",
       "</dl>\n"
      ],
      "text/latex": [
       "\\begin{description*}\n",
       "\\item[0\\textbackslash{}\\%] 15\n",
       "\\item[25\\textbackslash{}\\%] 22\n",
       "\\item[50\\textbackslash{}\\%] 24\n",
       "\\item[75\\textbackslash{}\\%] 30\n",
       "\\item[100\\textbackslash{}\\%] 37\n",
       "\\end{description*}\n"
      ],
      "text/markdown": [
       "0%\n",
       ":   1525%\n",
       ":   2250%\n",
       ":   2475%\n",
       ":   30100%\n",
       ":   37\n",
       "\n"
      ],
      "text/plain": [
       "  0%  25%  50%  75% 100% \n",
       "  15   22   24   30   37 "
      ]
     },
     "metadata": {},
     "output_type": "display_data"
    },
    {
     "data": {
      "image/png": "[encoded data removed]",
      "text/plain": [
       "plot without title"
      ]
     },
     "metadata": {},
     "output_type": "display_data"
    }
   ],
   "source": [
    "# 2.45\n",
    "library(ggplot2)\n",
    "set <- data.frame(\"ft\" = c(22, 24, 24, 30, 22, 20, 28, 30, 24, 34, 36, 15, 37))\n",
    "ggplot(set, aes(x = ft)) +\n",
    "    geom_dotplot(binwidth=1) +\n",
    "    geom_vline(xintercept=mean(set$ft), linetype=\"dashed\", color = \"red\") +\n",
    "    geom_vline(xintercept=median(set$ft), linetype=\"dashed\", color = \"blue\")\n",
    "\n",
    "quantile(set$ft)"
   ]
  },
  {
   "cell_type": "code",
   "execution_count": 93,
   "metadata": {},
   "outputs": [
    {
     "data": {
      "text/html": [
       "153"
      ],
      "text/latex": [
       "153"
      ],
      "text/markdown": [
       "153"
      ],
      "text/plain": [
       "[1] 153"
      ]
     },
     "metadata": {},
     "output_type": "display_data"
    },
    {
     "data": {
      "text/html": [
       "<strong>25%:</strong> 135.75"
      ],
      "text/latex": [
       "\\textbf{25\\textbackslash{}\\%:} 135.75"
      ],
      "text/markdown": [
       "**25%:** 135.75"
      ],
      "text/plain": [
       "   25% \n",
       "135.75 "
      ]
     },
     "metadata": {},
     "output_type": "display_data"
    },
    {
     "data": {
      "text/html": [
       "<strong>75%:</strong> 166.25"
      ],
      "text/latex": [
       "\\textbf{75\\textbackslash{}\\%:} 166.25"
      ],
      "text/markdown": [
       "**75%:** 166.25"
      ],
      "text/plain": [
       "   75% \n",
       "166.25 "
      ]
     },
     "metadata": {},
     "output_type": "display_data"
    }
   ],
   "source": [
    "# 2.47\n",
    "\n",
    "set <- c(162, 171, 138, 145, 144, 126, 145, 162, 174, 178, 167, 98, 161, 152, 182, 136, 165, 137, 133, 143, 184, 166, 115, 115, 95, 190, 119, 144, 176, 135, 194, 147, 160, 158, 178, 162, 131, 106, 157, 154)\n",
    "median(set)\n",
    "quantile(set, 0.25)\n",
    "quantile(set, 0.75)"
   ]
  },
  {
   "cell_type": "code",
   "execution_count": 95,
   "metadata": {},
   "outputs": [
    {
     "data": {
      "text/html": [
       "<dl class=dl-horizontal>\n",
       "\t<dt>0%</dt>\n",
       "\t\t<dd>11</dd>\n",
       "\t<dt>25%</dt>\n",
       "\t\t<dd>73</dd>\n",
       "\t<dt>50%</dt>\n",
       "\t\t<dd>93</dd>\n",
       "\t<dt>75%</dt>\n",
       "\t\t<dd>105</dd>\n",
       "\t<dt>100%</dt>\n",
       "\t\t<dd>127</dd>\n",
       "</dl>\n"
      ],
      "text/latex": [
       "\\begin{description*}\n",
       "\\item[0\\textbackslash{}\\%] 11\n",
       "\\item[25\\textbackslash{}\\%] 73\n",
       "\\item[50\\textbackslash{}\\%] 93\n",
       "\\item[75\\textbackslash{}\\%] 105\n",
       "\\item[100\\textbackslash{}\\%] 127\n",
       "\\end{description*}\n"
      ],
      "text/markdown": [
       "0%\n",
       ":   1125%\n",
       ":   7350%\n",
       ":   9375%\n",
       ":   105100%\n",
       ":   127\n",
       "\n"
      ],
      "text/plain": [
       "  0%  25%  50%  75% 100% \n",
       "  11   73   93  105  127 "
      ]
     },
     "metadata": {},
     "output_type": "display_data"
    }
   ],
   "source": [
    "# 2.49\n",
    "set <- c(118, 118, 57, 92, 127, 109, 96, 68, 73, 69, 106, 91, 93, 94, 102, 105, 11, 104, 80, 50, 96, 82, 72, 108, 73)\n",
    "quantile(set)"
   ]
  },
  {
   "cell_type": "code",
   "execution_count": 96,
   "metadata": {},
   "outputs": [
    {
     "data": {
      "text/html": [
       "110"
      ],
      "text/latex": [
       "110"
      ],
      "text/markdown": [
       "110"
      ],
      "text/plain": [
       "[1] 110"
      ]
     },
     "metadata": {},
     "output_type": "display_data"
    },
    {
     "data": {
      "text/html": [
       "<strong>25%:</strong> 70"
      ],
      "text/latex": [
       "\\textbf{25\\textbackslash{}\\%:} 70"
      ],
      "text/markdown": [
       "**25%:** 70"
      ],
      "text/plain": [
       "25% \n",
       " 70 "
      ]
     },
     "metadata": {},
     "output_type": "display_data"
    },
    {
     "data": {
      "text/html": [
       "<strong>75%:</strong> 300"
      ],
      "text/latex": [
       "\\textbf{75\\textbackslash{}\\%:} 300"
      ],
      "text/markdown": [
       "**75%:** 300"
      ],
      "text/plain": [
       "75% \n",
       "300 "
      ]
     },
     "metadata": {},
     "output_type": "display_data"
    },
    {
     "data": {
      "text/html": [
       "<strong>90%:</strong> 392"
      ],
      "text/latex": [
       "\\textbf{90\\textbackslash{}\\%:} 392"
      ],
      "text/markdown": [
       "**90%:** 392"
      ],
      "text/plain": [
       "90% \n",
       "392 "
      ]
     },
     "metadata": {},
     "output_type": "display_data"
    }
   ],
   "source": [
    "# 2.51\n",
    "set <- c(180, 1600, 90, 140, 50, 260, 400, 90, 380, 110, 10, 60, 20, 340, 80)\n",
    "median(set)\n",
    "quantile(set, 0.25)\n",
    "quantile(set, 0.75)\n",
    "quantile(set, 0.90)"
   ]
  },
  {
   "cell_type": "code",
   "execution_count": 1,
   "metadata": {},
   "outputs": [
    {
     "data": {
      "text/html": [
       "75.8"
      ],
      "text/latex": [
       "75.8"
      ],
      "text/markdown": [
       "75.8"
      ],
      "text/plain": [
       "[1] 75.8"
      ]
     },
     "metadata": {},
     "output_type": "display_data"
    },
    {
     "data": {
      "text/html": [
       "76"
      ],
      "text/latex": [
       "76"
      ],
      "text/markdown": [
       "76"
      ],
      "text/plain": [
       "[1] 76"
      ]
     },
     "metadata": {},
     "output_type": "display_data"
    },
    {
     "data": {
      "text/html": [
       "<ol class=list-inline>\n",
       "\t<li>23.3333333333333</li>\n",
       "\t<li>26.6666666666667</li>\n",
       "\t<li>24.4444444444444</li>\n",
       "\t<li>24.4444444444444</li>\n",
       "\t<li>22.7777777777778</li>\n",
       "</ol>\n"
      ],
      "text/latex": [
       "\\begin{enumerate*}\n",
       "\\item 23.3333333333333\n",
       "\\item 26.6666666666667\n",
       "\\item 24.4444444444444\n",
       "\\item 24.4444444444444\n",
       "\\item 22.7777777777778\n",
       "\\end{enumerate*}\n"
      ],
      "text/markdown": [
       "1. 23.3333333333333\n",
       "2. 26.6666666666667\n",
       "3. 24.4444444444444\n",
       "4. 24.4444444444444\n",
       "5. 22.7777777777778\n",
       "\n",
       "\n"
      ],
      "text/plain": [
       "[1] 23.33333 26.66667 24.44444 24.44444 22.77778"
      ]
     },
     "metadata": {},
     "output_type": "display_data"
    }
   ],
   "source": [
    "# 2.53\n",
    "set <- c(74, 80, 76, 76, 73)\n",
    "mean(set)\n",
    "median(set)\n",
    "# c = (5/9) * (F - 32)\n",
    "convert_to_c <- function (x) { return ((5/9) * (x - 32)) }\n",
    "sapply(set, convert_to_c)"
   ]
  },
  {
   "cell_type": "code",
   "execution_count": 4,
   "metadata": {},
   "outputs": [
    {
     "ename": "ERROR",
     "evalue": "Error in parse(text = x, srcfile = src): <text>:3:5: unexpected symbol\n2: set <- c(8, 3, 4)\n3: for i\n       ^\n",
     "output_type": "error",
     "traceback": [
      "Error in parse(text = x, srcfile = src): <text>:3:5: unexpected symbol\n2: set <- c(8, 3, 4)\n3: for i\n       ^\nTraceback:\n"
     ]
    }
   ],
   "source": []
  },
  {
   "cell_type": "code",
   "execution_count": null,
   "metadata": {},
   "outputs": [],
   "source": []
  }
 ],
 "metadata": {
  "kernelspec": {
   "display_name": "R",
   "language": "R",
   "name": "ir"
  },
  "language_info": {
   "codemirror_mode": "r",
   "file_extension": ".r",
   "mimetype": "text/x-r-source",
   "name": "R",
   "pygments_lexer": "r",
   "version": "3.6.1"
  }
 },
 "nbformat": 4,
 "nbformat_minor": 4
}
