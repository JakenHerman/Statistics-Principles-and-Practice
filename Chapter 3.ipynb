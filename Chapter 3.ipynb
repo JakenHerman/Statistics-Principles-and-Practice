{
 "cells": [
  {
   "cell_type": "code",
   "execution_count": 40,
   "metadata": {},
   "outputs": [],
   "source": [
    "import pandas as pd\n",
    "import matplotlib.pyplot as plt\n",
    "import numpy as np\n",
    "import math\n",
    "from statistics import *"
   ]
  },
  {
   "cell_type": "code",
   "execution_count": 12,
   "metadata": {},
   "outputs": [],
   "source": [
    "# 3.15\n",
    "# a) positive b) positive c) positive d) positive"
   ]
  },
  {
   "cell_type": "code",
   "execution_count": 13,
   "metadata": {},
   "outputs": [],
   "source": [
    "# 3.17\n",
    "# No, we can only conclude there is not a linear relationship.\n",
    "# There could be a relationship that binds more closely to a curve"
   ]
  },
  {
   "cell_type": "code",
   "execution_count": 62,
   "metadata": {},
   "outputs": [
    {
     "data": {
      "image/png": "[encoded data removed]",
      "text/plain": [
       "<Figure size 432x288 with 1 Axes>"
      ]
     },
     "metadata": {
      "needs_background": "light"
     },
     "output_type": "display_data"
    },
    {
     "name": "stdout",
     "output_type": "stream",
     "text": [
      "-0.46042009080282775\n",
      "-0.4152957991409804\n"
     ]
    }
   ],
   "source": [
    "# 3.19\n",
    "\n",
    "# lake apopka male alligators\n",
    "lama = {'e2': np.array([38, 23, 53, 37, 30]), 't': np.array([22, 24, 8, 6, 7])}\n",
    "lafa = {'e2': np.array([60, 73, 64, 101, 137, 88, 73, 257, 138, 220, 88]),\n",
    "        't': np.array([19, 23, 16, 8, 9, 7, 19, 8, 10, 15, 10])\n",
    "       }\n",
    "df = pd.DataFrame(data=lama)\n",
    "\n",
    "plt.scatter(lama['e2'], lama['t'], s=35, c='b', marker=\"s\", label='male')\n",
    "plt.scatter(lafa['e2'], lafa['t'], s=35, c='m', marker=\"x\", label='female')\n",
    "plt.legend(loc='upper right');\n",
    "plt.show()\n",
    "\n",
    "# correlation coefficient males:\n",
    "r_m = np.corrcoef(lama['e2'], lama['t'])[1, 0]\n",
    "r_f = np.corrcoef(lafa['e2'], lafa['t'])[1, 0]\n",
    "print(r_m)\n",
    "print(r_f)"
   ]
  },
  {
   "cell_type": "code",
   "execution_count": 63,
   "metadata": {},
   "outputs": [],
   "source": [
    "# 3.21\n",
    "# a -> c, b -> b, c -> a"
   ]
  },
  {
   "cell_type": "code",
   "execution_count": 66,
   "metadata": {},
   "outputs": [
    {
     "data": {
      "text/plain": [
       "-0.5780169759956103"
      ]
     },
     "execution_count": 66,
     "metadata": {},
     "output_type": "execute_result"
    }
   ],
   "source": [
    "# 3.23\n",
    "r = -204.3 / (math.sqrt(530.7) * math.sqrt(235.4))\n",
    "r"
   ]
  },
  {
   "cell_type": "code",
   "execution_count": 82,
   "metadata": {},
   "outputs": [
    {
     "name": "stdout",
     "output_type": "stream",
     "text": [
      "0.8219017000644399\n"
     ]
    }
   ],
   "source": [
    "# 3.25, without numpy.corrcoef\n",
    "x = pd.DataFrame({\n",
    "    't' : np.array([79, 93, 62, 75, 69, 78, 70, 98, 74, 82, 77, 84, 91, 70, 69, 93, 85, 93, 102, 82, 81, 80, 96]),\n",
    "    'o' : np.array([56, 69, 43, 53, 43, 44, 26, 75, 42, 49, 36, 60, 48, 40, 41, 58, 56, 87, 76, 63, 48, 45, 79])\n",
    "})\n",
    "\n",
    "# deviations of t and o\n",
    "devs_t = [d - mean(x['t']) for d in x['t']]\n",
    "devs_o = [d - mean(x['o']) for d in x['o']]\n",
    "\n",
    "sxy = sum(x['t'] * x['o']) - ((sum([i for i in x['t']]) * sum([i for i in x['o']])) / len(x['t']))\n",
    "sxx = sum([d * d for d in devs_t])\n",
    "syy = sum([d * d for d in devs_o])\n",
    "\n",
    "print(sxy / (math.sqrt(sxx) * math.sqrt(syy)))"
   ]
  },
  {
   "cell_type": "code",
   "execution_count": 99,
   "metadata": {},
   "outputs": [
    {
     "data": {
      "image/png": "[encoded data removed]",
      "text/plain": [
       "<Figure size 432x288 with 1 Axes>"
      ]
     },
     "metadata": {
      "needs_background": "light"
     },
     "output_type": "display_data"
    },
    {
     "name": "stdout",
     "output_type": "stream",
     "text": [
      "0.27854474200740137\n",
      "0.7325500941634189\n"
     ]
    }
   ],
   "source": [
    "# 3.27\n",
    "m = pd.DataFrame({\n",
    "    'len' : np.array([134, 143, 148, 127, 136, 146, 142, 139, 140, 133, 123]),\n",
    "    'wgt' : np.array([71, 93, 101, 84, 88, 117, 86, 86, 93, 86, 106])\n",
    "})\n",
    "\n",
    "f = pd.DataFrame({\n",
    "    'len' : np.array([123, 129, 143, 124, 125, 122, 125, 122]),\n",
    "    'wgt' : np.array([57, 84, 90, 71, 71, 77, 68, 73])\n",
    "})\n",
    "\n",
    "\n",
    "plt.scatter(m['len'], m['wgt'], c='b', label='male', marker='o')\n",
    "plt.scatter(f['len'], f['wgt'], c='m', label='female', marker='x')\n",
    "plt.legend(loc='lower right')\n",
    "plt.show()\n",
    "\n",
    "print(np.corrcoef(m['len'], m['wgt'])[1, 0])\n",
    "print(np.corrcoef(f['len'], f['wgt'])[1, 0])"
   ]
  },
  {
   "cell_type": "code",
   "execution_count": null,
   "metadata": {},
   "outputs": [],
   "source": []
  }
 ],
 "metadata": {
  "kernelspec": {
   "display_name": "Python 3",
   "language": "python",
   "name": "python3"
  },
  "language_info": {
   "codemirror_mode": {
    "name": "ipython",
    "version": 3
   },
   "file_extension": ".py",
   "mimetype": "text/x-python",
   "name": "python",
   "nbconvert_exporter": "python",
   "pygments_lexer": "ipython3",
   "version": "3.8.3"
  }
 },
 "nbformat": 4,
 "nbformat_minor": 4
}
