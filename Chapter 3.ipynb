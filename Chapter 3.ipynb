{
 "cells": [
  {
   "cell_type": "code",
   "execution_count": 2,
   "metadata": {},
   "outputs": [],
   "source": [
    "import pandas as pd\n",
    "import matplotlib.pyplot as plt\n",
    "import numpy as np\n",
    "import math\n",
    "from statistics import *"
   ]
  },
  {
   "cell_type": "code",
   "execution_count": 3,
   "metadata": {},
   "outputs": [],
   "source": [
    "# 3.15\n",
    "# a) positive b) positive c) positive d) positive"
   ]
  },
  {
   "cell_type": "code",
   "execution_count": 4,
   "metadata": {},
   "outputs": [],
   "source": [
    "# 3.17\n",
    "# No, we can only conclude there is not a linear relationship.\n",
    "# There could be a relationship that binds more closely to a curve"
   ]
  },
  {
   "cell_type": "code",
   "execution_count": 5,
   "metadata": {},
   "outputs": [
    {
     "data": {
      "image/png": "[encoded data removed]",
      "text/plain": [
       "<Figure size 432x288 with 1 Axes>"
      ]
     },
     "metadata": {
      "needs_background": "light"
     },
     "output_type": "display_data"
    },
    {
     "name": "stdout",
     "output_type": "stream",
     "text": [
      "-0.46042009080282775\n",
      "-0.4152957991409804\n"
     ]
    }
   ],
   "source": [
    "# 3.19\n",
    "\n",
    "# lake apopka male alligators\n",
    "lama = {'e2': np.array([38, 23, 53, 37, 30]), 't': np.array([22, 24, 8, 6, 7])}\n",
    "lafa = {'e2': np.array([60, 73, 64, 101, 137, 88, 73, 257, 138, 220, 88]),\n",
    "        't': np.array([19, 23, 16, 8, 9, 7, 19, 8, 10, 15, 10])\n",
    "       }\n",
    "df = pd.DataFrame(data=lama)\n",
    "\n",
    "plt.scatter(lama['e2'], lama['t'], s=35, c='b', marker=\"s\", label='male')\n",
    "plt.scatter(lafa['e2'], lafa['t'], s=35, c='m', marker=\"x\", label='female')\n",
    "plt.legend(loc='upper right');\n",
    "plt.show()\n",
    "\n",
    "# correlation coefficient males:\n",
    "r_m = np.corrcoef(lama['e2'], lama['t'])[1, 0]\n",
    "r_f = np.corrcoef(lafa['e2'], lafa['t'])[1, 0]\n",
    "print(r_m)\n",
    "print(r_f)"
   ]
  },
  {
   "cell_type": "code",
   "execution_count": 6,
   "metadata": {},
   "outputs": [],
   "source": [
    "# 3.21\n",
    "# a -> c, b -> b, c -> a"
   ]
  },
  {
   "cell_type": "code",
   "execution_count": 7,
   "metadata": {},
   "outputs": [
    {
     "data": {
      "text/plain": [
       "-0.5780169759956103"
      ]
     },
     "execution_count": 7,
     "metadata": {},
     "output_type": "execute_result"
    }
   ],
   "source": [
    "# 3.23\n",
    "r = -204.3 / (math.sqrt(530.7) * math.sqrt(235.4))\n",
    "r"
   ]
  },
  {
   "cell_type": "code",
   "execution_count": 8,
   "metadata": {},
   "outputs": [
    {
     "name": "stdout",
     "output_type": "stream",
     "text": [
      "0.8219017000644399\n"
     ]
    }
   ],
   "source": [
    "# 3.25, without numpy.corrcoef\n",
    "x = pd.DataFrame({\n",
    "    't' : np.array([79, 93, 62, 75, 69, 78, 70, 98, 74, 82, 77, 84, 91, 70, 69, 93, 85, 93, 102, 82, 81, 80, 96]),\n",
    "    'o' : np.array([56, 69, 43, 53, 43, 44, 26, 75, 42, 49, 36, 60, 48, 40, 41, 58, 56, 87, 76, 63, 48, 45, 79])\n",
    "})\n",
    "\n",
    "# deviations of t and o\n",
    "devs_t = [d - mean(x['t']) for d in x['t']]\n",
    "devs_o = [d - mean(x['o']) for d in x['o']]\n",
    "\n",
    "sxy = sum(x['t'] * x['o']) - ((sum([i for i in x['t']]) * sum([i for i in x['o']])) / len(x['t']))\n",
    "sxx = sum([d * d for d in devs_t])\n",
    "syy = sum([d * d for d in devs_o])\n",
    "\n",
    "print(sxy / (math.sqrt(sxx) * math.sqrt(syy)))"
   ]
  },
  {
   "cell_type": "code",
   "execution_count": 9,
   "metadata": {},
   "outputs": [
    {
     "data": {
      "image/png": "[encoded data removed]",
      "text/plain": [
       "<Figure size 432x288 with 1 Axes>"
      ]
     },
     "metadata": {
      "needs_background": "light"
     },
     "output_type": "display_data"
    },
    {
     "name": "stdout",
     "output_type": "stream",
     "text": [
      "0.27854474200740137\n",
      "0.7325500941634189\n"
     ]
    }
   ],
   "source": [
    "# 3.27\n",
    "m = pd.DataFrame({\n",
    "    'len' : np.array([134, 143, 148, 127, 136, 146, 142, 139, 140, 133, 123]),\n",
    "    'wgt' : np.array([71, 93, 101, 84, 88, 117, 86, 86, 93, 86, 106])\n",
    "})\n",
    "\n",
    "f = pd.DataFrame({\n",
    "    'len' : np.array([123, 129, 143, 124, 125, 122, 125, 122]),\n",
    "    'wgt' : np.array([57, 84, 90, 71, 71, 77, 68, 73])\n",
    "})\n",
    "\n",
    "\n",
    "plt.scatter(m['len'], m['wgt'], c='b', label='male', marker='o')\n",
    "plt.scatter(f['len'], f['wgt'], c='m', label='female', marker='x')\n",
    "plt.legend(loc='lower right')\n",
    "plt.show()\n",
    "\n",
    "print(np.corrcoef(m['len'], m['wgt'])[1, 0])\n",
    "print(np.corrcoef(f['len'], f['wgt'])[1, 0])"
   ]
  },
  {
   "cell_type": "code",
   "execution_count": 29,
   "metadata": {},
   "outputs": [
    {
     "data": {
      "image/png": "[encoded data removed]",
      "text/plain": [
       "<Figure size 432x288 with 1 Axes>"
      ]
     },
     "metadata": {
      "needs_background": "light"
     },
     "output_type": "display_data"
    }
   ],
   "source": [
    "# 3.35\n",
    "plt.plot([-16, -13, -10, -7, -4, -1, 2, 5, 8, 11, 14, 17, 20])\n",
    "plt.grid(color='lightgray', linestyle='-', linewidth=0.25)\n",
    "plt.show()"
   ]
  },
  {
   "cell_type": "code",
   "execution_count": 41,
   "metadata": {},
   "outputs": [
    {
     "name": "stdout",
     "output_type": "stream",
     "text": [
      "255\n",
      "16+\n"
     ]
    }
   ],
   "source": [
    "# 3.37\n",
    "def profit (x):\n",
    "    return (10 * x) - 155\n",
    "\n",
    "# a)\n",
    "print(profit(41))\n",
    "\n",
    "# b)\n",
    "p = 0\n",
    "while profit(p) <= 0:\n",
    "    p += 1\n",
    "print(str(p) + '+')"
   ]
  },
  {
   "cell_type": "code",
   "execution_count": 63,
   "metadata": {},
   "outputs": [
    {
     "data": {
      "image/png": "[encoded data removed]",
      "text/plain": [
       "<Figure size 432x288 with 1 Axes>"
      ]
     },
     "metadata": {
      "needs_background": "light"
     },
     "output_type": "display_data"
    }
   ],
   "source": [
    "# 3.39\n",
    "x = np.array([1, 2, 3, 4, 5])\n",
    "y = np.array([1, 2.2, 2.6, 3.4, 3.9])\n",
    "\n",
    "# a)\n",
    "plt.scatter(x, y)\n",
    "\n",
    "# c) least squares estimates B_0 and B_1:\n",
    "devs_x = [d - mean(x) for d in x]\n",
    "devs_y = [d - mean(y) for d in y]\n",
    "\n",
    "sxy = sum(x * y) - ((sum([i for i in x]) * sum([i for i in y])) / len(x))\n",
    "sxx = sum([o * o for o in devs_x])\n",
    "B_1 = sxy / sxx\n",
    "B_0 = mean(y) - (B_1 * mean(x))\n",
    "\n",
    "least_squares_fitted_line = []\n",
    "for i in range(0, 6):\n",
    "    least_squares_fitted_line.append(B_0 + (B_1 * i))\n",
    "plt.plot(least_squares_fitted_line, c='r')\n",
    "plt.show()"
   ]
  },
  {
   "cell_type": "code",
   "execution_count": 67,
   "metadata": {},
   "outputs": [
    {
     "name": "stdout",
     "output_type": "stream",
     "text": [
      "5.397872340425533\n"
     ]
    }
   ],
   "source": [
    "# 3.41\n",
    "# a)\n",
    "b1 = 10.2 / 9.4\n",
    "b0 = (39.9/9) - (b1 * (19/9))\n",
    "def least_squares (x):\n",
    "    return b0 + (b1 * x)\n",
    "\n",
    "print(least_squares(3))"
   ]
  },
  {
   "cell_type": "code",
   "execution_count": 75,
   "metadata": {},
   "outputs": [
    {
     "data": {
      "image/png": "[encoded data removed]",
      "text/plain": [
       "<Figure size 432x288 with 1 Axes>"
      ]
     },
     "metadata": {
      "needs_background": "light"
     },
     "output_type": "display_data"
    }
   ],
   "source": [
    "# 3.43\n",
    "\n",
    "x = pd.DataFrame({\n",
    "    'year': np.array([1960, 1970, 1980, 1990, 2000, 2010]),\n",
    "    'garbage': np.array([88, 121, 152, 208, 243, 250]),\n",
    "    'population': np.array([179, 203, 227, 249, 282, 309])\n",
    "})\n",
    "\n",
    "# a)\n",
    "plt.scatter(x['population'], x['garbage'])\n",
    "\n",
    "# b)\n",
    "devs_pop = [d - mean(x['population']) for d in x['population']]\n",
    "devs_garbage = [d - mean(x['garbage']) for d in x['garbage']]\n",
    "\n",
    "sxy = sum(x['population'] * x['garbage']) - ((sum([i for i in x['population']]) * sum([i for i in x['garbage']])) / len(x['population']))\n",
    "sxx = sum([o * o for o in devs_pop])\n",
    "B_1 = sxy / sxx\n",
    "B_0 = mean(x['garbage']) - (B_1 * mean(x['population']))\n",
    "\n",
    "least_squares_fitted_line = []\n",
    "for i in range(1, 350):\n",
    "    least_squares_fitted_line.append(B_0 + (B_1 * i))\n",
    "plt.plot(least_squares_fitted_line, c='r')\n",
    "plt.show()"
   ]
  },
  {
   "cell_type": "code",
   "execution_count": null,
   "metadata": {},
   "outputs": [],
   "source": []
  }
 ],
 "metadata": {
  "kernelspec": {
   "display_name": "Python 3",
   "language": "python",
   "name": "python3"
  },
  "language_info": {
   "codemirror_mode": {
    "name": "ipython",
    "version": 3
   },
   "file_extension": ".py",
   "mimetype": "text/x-python",
   "name": "python",
   "nbconvert_exporter": "python",
   "pygments_lexer": "ipython3",
   "version": "3.8.3"
  }
 },
 "nbformat": 4,
 "nbformat_minor": 4
}
