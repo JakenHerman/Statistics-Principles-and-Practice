{
 "cells": [
  {
   "cell_type": "code",
   "execution_count": 1,
   "metadata": {},
   "outputs": [],
   "source": [
    "# 4.1\n",
    "# a => { iv }\n",
    "# b => { ii, v }\n",
    "# c => { vi }\n",
    "# d => { vi }\n",
    "# e => { iv }\n",
    "# f => { i }\n",
    "# g => { iii, v}"
   ]
  },
  {
   "cell_type": "code",
   "execution_count": 2,
   "metadata": {},
   "outputs": [],
   "source": [
    "# 4.3\n",
    "# a => { ii }\n",
    "# b => { iii }\n",
    "# c => { i }"
   ]
  },
  {
   "cell_type": "code",
   "execution_count": 3,
   "metadata": {},
   "outputs": [],
   "source": [
    "# 4.7\n",
    "# a => {BL, BJ, BS, LB, LS, LJ, JS, JL, JB, SB, SL, SJ }\n",
    "# b => { P({LB, LS, LJ}), P({LS, LJ, JS, JL, SL, SJ}) }"
   ]
  },
  {
   "cell_type": "code",
   "execution_count": 4,
   "metadata": {},
   "outputs": [],
   "source": [
    "# 4.9\n",
    "# P(e_4) = 0.1"
   ]
  },
  {
   "cell_type": "code",
   "execution_count": 5,
   "metadata": {},
   "outputs": [],
   "source": [
    "# 4.11\n",
    "# a) yes\n",
    "# b) no\n",
    "# c) yes"
   ]
  },
  {
   "cell_type": "code",
   "execution_count": 6,
   "metadata": {},
   "outputs": [],
   "source": [
    "# 4.13\n",
    "# P(Highest Temp in May/June) = 0.20 = 20% Chance"
   ]
  },
  {
   "cell_type": "code",
   "execution_count": 7,
   "metadata": {},
   "outputs": [
    {
     "name": "stdout",
     "output_type": "stream",
     "text": [
      "0.804\n"
     ]
    }
   ],
   "source": [
    "# 4.15\n",
    "print(1-.196)"
   ]
  },
  {
   "cell_type": "code",
   "execution_count": 8,
   "metadata": {},
   "outputs": [
    {
     "name": "stdout",
     "output_type": "stream",
     "text": [
      "0.375\n"
     ]
    }
   ],
   "source": [
    "# 4.17\n",
    "# c)\n",
    "print(3/8)"
   ]
  },
  {
   "cell_type": "code",
   "execution_count": 9,
   "metadata": {},
   "outputs": [
    {
     "name": "stdout",
     "output_type": "stream",
     "text": [
      "[0.25, 0.375, 0.375]\n",
      "0.625\n"
     ]
    }
   ],
   "source": [
    "# 4.19\n",
    "s = [1, 1, 2, 2, 2, 3, 3, 3]\n",
    "def get_prob(v):\n",
    "    return s.count(v) / len(s)\n",
    "\n",
    "# a)\n",
    "print([get_prob(v) for v in set(s)])\n",
    "\n",
    "# b)\n",
    "print(sum(list(set([get_prob(v) for v in s if v % 2 == 1]))))"
   ]
  },
  {
   "cell_type": "code",
   "execution_count": 11,
   "metadata": {},
   "outputs": [
    {
     "name": "stdout",
     "output_type": "stream",
     "text": [
      "0.1388888888888889\n",
      "0.16666666666666666\n",
      "0.5\n",
      "0.16666666666666666\n"
     ]
    }
   ],
   "source": [
    "# 4.21\n",
    "def get_pairs_for_sum(sum):\n",
    "    count = 0\n",
    "    for i in range(1, 7):\n",
    "        for j in range(1, 7):\n",
    "            if (i + j == sum):\n",
    "                count += 1\n",
    "    return count\n",
    "\n",
    "def get_pairs_for_even():\n",
    "    count = 0\n",
    "    for i in range(1, 7):\n",
    "        for j in range(1, 7):\n",
    "            if ((i + j) % 2 == 0):\n",
    "                count +=1\n",
    "    return count\n",
    "\n",
    "def get_pairs_for_same():\n",
    "    count = 0\n",
    "    for i in range(1, 7):\n",
    "        for j in range(1, 7):\n",
    "            if (i == j):\n",
    "                count += 1\n",
    "    return count\n",
    "\n",
    "a = get_pairs_for_sum(6)\n",
    "b = get_pairs_for_sum(7)\n",
    "c = get_pairs_for_even()\n",
    "d = get_pairs_for_same()\n",
    "\n",
    "print(a / 6 ** 2)\n",
    "print(b / 6 ** 2)\n",
    "print(c / 6 ** 2)\n",
    "print(d / 6 ** 2)"
   ]
  },
  {
   "cell_type": "code",
   "execution_count": 12,
   "metadata": {},
   "outputs": [
    {
     "name": "stdout",
     "output_type": "stream",
     "text": [
      "0.01\n"
     ]
    }
   ],
   "source": [
    "# 4.57\n",
    "# P(B | A) = P(BA)/P(A)\n",
    "pba = .001\n",
    "pa = .1\n",
    "print(pba/pa)"
   ]
  },
  {
   "cell_type": "code",
   "execution_count": 15,
   "metadata": {},
   "outputs": [
    {
     "name": "stdout",
     "output_type": "stream",
     "text": [
      "0.6\n",
      "0.175\n",
      "0.65\n"
     ]
    }
   ],
   "source": [
    "# 4.59\n",
    "pa = .4\n",
    "pb = .25\n",
    "pab = .7\n",
    "\n",
    "#a )\n",
    "print(1-pa)\n",
    "\n",
    "#b)\n",
    "print(pb * pab)\n",
    "\n",
    "#c)\n",
    "print(pa + pb)"
   ]
  },
  {
   "cell_type": "code",
   "execution_count": 16,
   "metadata": {},
   "outputs": [
    {
     "name": "stdout",
     "output_type": "stream",
     "text": [
      "0.4\n",
      "0.25\n",
      "0.5\n"
     ]
    }
   ],
   "source": [
    "# 4.61\n",
    "# 2 green, 3 red\n",
    "# drawn at random without replacement\n",
    "\n",
    "#a.i) probability of A = { Green ball appears in the first draw }\n",
    "print(2/5)\n",
    "\n",
    "#a.ii) probability of B = { Green ball appears in the second draw }\n",
    "# assuming a.i resulted in a green (i.e. P(B | A))\n",
    "print(1 / 4)\n",
    "# else\n",
    "print(2/4)\n",
    "\n"
   ]
  },
  {
   "cell_type": "code",
   "execution_count": 3,
   "metadata": {},
   "outputs": [
    {
     "name": "stdout",
     "output_type": "stream",
     "text": [
      "0.16855028864135296\n",
      "0.1987673343605547\n"
     ]
    }
   ],
   "source": [
    "# 4.63\n",
    "#a)\n",
    "print(2073/12299)\n",
    "#b)\n",
    "print(1032/5192)"
   ]
  },
  {
   "cell_type": "code",
   "execution_count": 12,
   "metadata": {},
   "outputs": [
    {
     "name": "stdout",
     "output_type": "stream",
     "text": [
      "0.2222222222222222\n",
      "0.5833333333333334\n",
      "The two events are not independent because the probability of infection given male is not equal to the probability of infection\n"
     ]
    }
   ],
   "source": [
    "# 20 rats, 12 males, 7 infected males, 9 infected total.\n",
    "probability_male = (12/20)\n",
    "probability_female = 1 - probability_male\n",
    "probability_infected = (9 / 20)\n",
    "\n",
    "probability_female_given_infected = 2 / 9\n",
    "probability_infected_given_male = 7 / 12\n",
    "print(probability_female_given_infected)\n",
    "print(probability_infected_given_male)\n",
    "print('The two events are not independent because the probability of infection given male is not equal to the probability of infection')"
   ]
  },
  {
   "cell_type": "code",
   "execution_count": 14,
   "metadata": {},
   "outputs": [
    {
     "name": "stdout",
     "output_type": "stream",
     "text": [
      "0.4139673105497771\n"
     ]
    }
   ],
   "source": [
    "# example 4.20\n",
    "num = .995 * .014\n",
    "denom = num + (.02 * .986)\n",
    "print(num/denom)"
   ]
  },
  {
   "cell_type": "code",
   "execution_count": 3,
   "metadata": {},
   "outputs": [],
   "source": [
    "# example 4.21\n",
    "probability_spam = 350 / 1000\n",
    "probability_not_spam = 1 - probability_spam\n",
    "probability_spam_union_words_in_list = 280 / 1000\n",
    "probability_words_in_list_given_spam = probability_spam_union_words_in_list / probability_spam\n",
    "probability_not_spam = 1 - probability_spam\n",
    "probability_words_in_list_given_not_spam = (65/650)/probability_not_spam"
   ]
  },
  {
   "cell_type": "code",
   "execution_count": 23,
   "metadata": {},
   "outputs": [
    {
     "name": "stdout",
     "output_type": "stream",
     "text": [
      "a) 210.0\n",
      "b) 90.0\n"
     ]
    }
   ],
   "source": [
    "# 4.85\n",
    "def choose(a, b):\n",
    "    num = 1\n",
    "    for i in range(a, a-b, -1):\n",
    "        num = num * i\n",
    "    denom = 1\n",
    "    for i in range(b, 0, -1):\n",
    "        denom = denom * i\n",
    "    return num / denom\n",
    "\n",
    "print('a) ' + str(choose(10, 4)))\n",
    "print('b) ' + str(choose(6, 2) * choose(4, 2)))"
   ]
  },
  {
   "cell_type": "code",
   "execution_count": 35,
   "metadata": {},
   "outputs": [
    {
     "name": "stdout",
     "output_type": "stream",
     "text": [
      "a) 330.0\n",
      "b) 0.18181818181818182\n"
     ]
    }
   ],
   "source": [
    "# 4.99\n",
    "print('a) ' + str(choose(11, 4)))\n",
    "print('b) ' + str((choose(5, 3) * choose(6, 1)) / choose(11, 4)))"
   ]
  },
  {
   "cell_type": "code",
   "execution_count": 37,
   "metadata": {},
   "outputs": [
    {
     "name": "stdout",
     "output_type": "stream",
     "text": [
      "0.18181818181818182\n"
     ]
    }
   ],
   "source": [
    "# 4.101\n",
    "# 6 yellow, 5 red\n",
    "# a)\n",
    "print(choose(5, 2) / choose(11, 2))\n",
    "#b\n"
   ]
  },
  {
   "cell_type": "code",
   "execution_count": null,
   "metadata": {},
   "outputs": [],
   "source": []
  }
 ],
 "metadata": {
  "kernelspec": {
   "display_name": "Python 3",
   "language": "python",
   "name": "python3"
  },
  "language_info": {
   "codemirror_mode": {
    "name": "ipython",
    "version": 3
   },
   "file_extension": ".py",
   "mimetype": "text/x-python",
   "name": "python",
   "nbconvert_exporter": "python",
   "pygments_lexer": "ipython3",
   "version": "3.8.3"
  }
 },
 "nbformat": 4,
 "nbformat_minor": 4
}
