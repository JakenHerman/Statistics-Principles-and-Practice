{
 "cells": [
  {
   "cell_type": "code",
   "execution_count": 1,
   "metadata": {},
   "outputs": [],
   "source": [
    "# 4.1\n",
    "# a => { iv }\n",
    "# b => { ii, v }\n",
    "# c => { vi }\n",
    "# d => { vi }\n",
    "# e => { iv }\n",
    "# f => { i }\n",
    "# g => { iii, v}"
   ]
  },
  {
   "cell_type": "code",
   "execution_count": 2,
   "metadata": {},
   "outputs": [],
   "source": [
    "# 4.3\n",
    "# a => { ii }\n",
    "# b => { iii }\n",
    "# c => { i }"
   ]
  },
  {
   "cell_type": "code",
   "execution_count": 3,
   "metadata": {},
   "outputs": [],
   "source": [
    "# 4.7\n",
    "# a => {BL, BJ, BS, LB, LS, LJ, JS, JL, JB, SB, SL, SJ }\n",
    "# b => { P({LB, LS, LJ}), P({LS, LJ, JS, JL, SL, SJ}) }"
   ]
  },
  {
   "cell_type": "code",
   "execution_count": 4,
   "metadata": {},
   "outputs": [],
   "source": [
    "# 4.9\n",
    "# P(e_4) = 0.1"
   ]
  },
  {
   "cell_type": "code",
   "execution_count": 5,
   "metadata": {},
   "outputs": [],
   "source": [
    "# 4.11\n",
    "# a) yes\n",
    "# b) no\n",
    "# c) yes"
   ]
  },
  {
   "cell_type": "code",
   "execution_count": 6,
   "metadata": {},
   "outputs": [],
   "source": [
    "# 4.13\n",
    "# P(Highest Temp in May/June) = 0.20 = 20% Chance"
   ]
  },
  {
   "cell_type": "code",
   "execution_count": 2,
   "metadata": {},
   "outputs": [
    {
     "name": "stdout",
     "output_type": "stream",
     "text": [
      "0.804\n"
     ]
    }
   ],
   "source": [
    "# 4.15\n",
    "print(1-.196)"
   ]
  },
  {
   "cell_type": "code",
   "execution_count": 12,
   "metadata": {},
   "outputs": [
    {
     "name": "stdout",
     "output_type": "stream",
     "text": [
      "0.375\n"
     ]
    }
   ],
   "source": [
    "# 4.17\n",
    "# c)\n",
    "print(3/8)"
   ]
  },
  {
   "cell_type": "code",
   "execution_count": 23,
   "metadata": {},
   "outputs": [
    {
     "name": "stdout",
     "output_type": "stream",
     "text": [
      "[0.25, 0.375, 0.375]\n",
      "0.625\n"
     ]
    }
   ],
   "source": [
    "# 4.19\n",
    "s = [1, 1, 2, 2, 2, 3, 3, 3]\n",
    "def get_prob(v):\n",
    "    return s.count(v) / len(s)\n",
    "\n",
    "# a)\n",
    "print([get_prob(v) for v in set(s)])\n",
    "\n",
    "# b)\n",
    "print(sum(list(set([get_prob(v) for v in s if v % 2 == 1]))))"
   ]
  },
  {
   "cell_type": "code",
   "execution_count": 48,
   "metadata": {},
   "outputs": [
    {
     "name": "stdout",
     "output_type": "stream",
     "text": [
      "0.1388888888888889\n",
      "0.16666666666666666\n",
      "0.5\n",
      "0.16666666666666666\n"
     ]
    }
   ],
   "source": [
    "# 4.21\n",
    "def get_pairs_for_sum(sum):\n",
    "    count = 0\n",
    "    for i in range(1, 7):\n",
    "        for j in range(1, 7):\n",
    "            if (i + j == sum):\n",
    "                count += 1\n",
    "    return count\n",
    "\n",
    "def get_pairs_for_even():\n",
    "    count = 0\n",
    "    for i in range(1, 7):\n",
    "        for j in range(1, 7):\n",
    "            if ((i + j) % 2 == 0):\n",
    "                count +=1\n",
    "    return count\n",
    "\n",
    "def get_pairs_for_same():\n",
    "    count = 0\n",
    "    for i in range(1, 7):\n",
    "        for j in range(1, 7):\n",
    "            if (i == j):\n",
    "                count += 1\n",
    "    return count\n",
    "\n",
    "a = get_number_of_pairs(6)\n",
    "b = get_number_of_pairs(7)\n",
    "c = get_pairs_for_even()\n",
    "d = get_pairs_for_same()\n",
    "\n",
    "print(a / 6 ** 2)\n",
    "print(b / 6 ** 2)\n",
    "print(c / 6 ** 2)\n",
    "print(d / 6 ** 2)"
   ]
  }
 ],
 "metadata": {
  "kernelspec": {
   "display_name": "Python 3",
   "language": "python",
   "name": "python3"
  },
  "language_info": {
   "codemirror_mode": {
    "name": "ipython",
    "version": 3
   },
   "file_extension": ".py",
   "mimetype": "text/x-python",
   "name": "python",
   "nbconvert_exporter": "python",
   "pygments_lexer": "ipython3",
   "version": "3.8.3"
  }
 },
 "nbformat": 4,
 "nbformat_minor": 4
}
