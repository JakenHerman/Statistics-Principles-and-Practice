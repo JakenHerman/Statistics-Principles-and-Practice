{
 "cells": [
  {
   "cell_type": "code",
   "execution_count": 1,
   "metadata": {},
   "outputs": [],
   "source": [
    "# 4.1\n",
    "# a => { iv }\n",
    "# b => { ii, v }\n",
    "# c => { vi }\n",
    "# d => { vi }\n",
    "# e => { iv }\n",
    "# f => { i }\n",
    "# g => { iii, v}"
   ]
  },
  {
   "cell_type": "code",
   "execution_count": 2,
   "metadata": {},
   "outputs": [],
   "source": [
    "# 4.3\n",
    "# a => { ii }\n",
    "# b => { iii }\n",
    "# c => { i }"
   ]
  },
  {
   "cell_type": "code",
   "execution_count": 3,
   "metadata": {},
   "outputs": [],
   "source": [
    "# 4.7\n",
    "# a => {BL, BJ, BS, LB, LS, LJ, JS, JL, JB, SB, SL, SJ }\n",
    "# b => { P({LB, LS, LJ}), P({LS, LJ, JS, JL, SL, SJ}) }"
   ]
  },
  {
   "cell_type": "code",
   "execution_count": 4,
   "metadata": {},
   "outputs": [],
   "source": [
    "# 4.9\n",
    "# P(e_4) = 0.1"
   ]
  },
  {
   "cell_type": "code",
   "execution_count": 5,
   "metadata": {},
   "outputs": [],
   "source": [
    "# 4.11\n",
    "# a) yes\n",
    "# b) no\n",
    "# c) yes"
   ]
  },
  {
   "cell_type": "code",
   "execution_count": null,
   "metadata": {},
   "outputs": [],
   "source": [
    "# 4.13\n"
   ]
  }
 ],
 "metadata": {
  "kernelspec": {
   "display_name": "Python 3",
   "language": "python",
   "name": "python3"
  },
  "language_info": {
   "codemirror_mode": {
    "name": "ipython",
    "version": 3
   },
   "file_extension": ".py",
   "mimetype": "text/x-python",
   "name": "python",
   "nbconvert_exporter": "python",
   "pygments_lexer": "ipython3",
   "version": "3.8.3"
  }
 },
 "nbformat": 4,
 "nbformat_minor": 4
}
